{
 "cells": [
  {
   "cell_type": "markdown",
   "metadata": {},
   "source": [
    "# 反向传播\n",
    "\n",
    "前面几个小节我们学习了构建计算图、构建层次结构的图并进行计算，或者说“预测”，因为这个过程权重是没有发生改变的。\n",
    "\n",
    "还学习了用于数值预测或者说连续型数据预测的代价函数和用于分类预测的代价函数。\n",
    "\n",
    "那么这个小节，我们就通过两个例子，综合前面所学习的内容，来感受一波训练过程。其实训练过程就是一个“反向传播，权重更新”的过程。\n",
    "\n"
   ]
  },
  {
   "cell_type": "code",
   "execution_count": 103,
   "metadata": {},
   "outputs": [],
   "source": [
    "import matplotlib.pyplot as plt\n",
    "import numpy as np\n",
    "import tensorflow as tf\n",
    "from tensorflow.python.framework import ops\n",
    "ops.reset_default_graph()\n",
    "\n",
    "sess = tf.Session()"
   ]
  },
  {
   "cell_type": "markdown",
   "metadata": {},
   "source": [
    "# 一个回归的例子\n",
    "\n",
    "这个例子就是拟合一个权重10。\n",
    "\n",
    "输入1周围的数，输出10。\n",
    "\n",
    "待训练权重A，满足： 输入*A = 输出。 显然A等于10。"
   ]
  },
  {
   "cell_type": "code",
   "execution_count": 104,
   "metadata": {},
   "outputs": [],
   "source": [
    "# 定义graph、损失函数\n",
    "x_vals = np.random.normal(1,0.1,100)\n",
    "y_vals = np.repeat(10., 100)\n",
    "x_data = tf.placeholder(tf.float32, shape=[1])\n",
    "y_label = tf.placeholder(tf.float32, shape=[1])\n",
    "\n",
    "A = tf.get_variable('weight',initializer=tf.random_normal(shape=[1]))\n",
    "\n",
    "predict = tf.multiply(x_data,A)\n",
    "loss = tf.square(predict - y_label)\n",
    "\n",
    "# 定义训练步骤\n",
    "optimizer = tf.train.GradientDescentOptimizer(0.02) # 采用梯度下降方法来进行求最优解，学习率为0.02\n",
    "train_step = optimizer.minimize(loss)"
   ]
  },
  {
   "cell_type": "code",
   "execution_count": 105,
   "metadata": {},
   "outputs": [
    {
     "name": "stdout",
     "output_type": "stream",
     "text": [
      "Step 0, A = 1.3105\n",
      "Loss = 74.901772\n",
      "Step 25, A = 6.8252\n",
      "Loss = 6.829202\n",
      "Step 50, A = 8.7640\n",
      "Loss = 4.299357\n",
      "Step 75, A = 9.5845\n",
      "Loss = 0.439925\n"
     ]
    }
   ],
   "source": [
    "# 开始训练\n",
    "init = tf.global_variables_initializer() # 初始化定义的变量\n",
    "sess.run(init)\n",
    "\n",
    "for i in range(100):\n",
    "    rand_idx = np.random.choice(100)\n",
    "    sess.run(train_step, feed_dict={x_data:[x_vals[rand_idx]], y_label:[y_vals[rand_idx]]})\n",
    "    if i % 25 == 0:\n",
    "        print 'Step %d, A = %.4f' % (i, sess.run(A))\n",
    "        print 'Loss = %f' % sess.run(loss, feed_dict={x_data:[x_vals[rand_idx]], y_label:[y_vals[rand_idx]]})"
   ]
  },
  {
   "cell_type": "markdown",
   "metadata": {},
   "source": [
    "# 一个分类的例子\n",
    "\n"
   ]
  },
  {
   "cell_type": "code",
   "execution_count": 106,
   "metadata": {},
   "outputs": [
    {
     "data": {
      "image/png": "[encoded data removed]",
      "text/plain": [
       "<matplotlib.figure.Figure at 0x7f9c69fc40d0>"
      ]
     },
     "metadata": {},
     "output_type": "display_data"
    }
   ],
   "source": [
    "ops.reset_default_graph()\n",
    "sess = tf.Session()\n",
    "\n",
    "# 创建数据、变量\n",
    "x_vals = np.concatenate((np.random.normal(-1, 1, 50), np.random.normal(3, 1, 50)))\n",
    "y_vals = np.concatenate((np.repeat(0., 50), np.repeat(1., 50)))\n",
    "x_data = tf.placeholder(shape=[1], dtype=tf.float32)\n",
    "y_target = tf.placeholder(shape=[1], dtype=tf.float32)\n",
    "\n",
    "A = tf.get_variable('weight', initializer=tf.random_normal(shape=[1]))\n",
    "\n",
    "plt.scatter(x_vals[:50], y_vals[:50], label='1.', color = 'r')\n",
    "plt.scatter(x_vals[50:], y_vals[50:], label='0.', color = 'c')\n",
    "plt.legend(loc = 'upper left')  \n",
    "plt.show()\n",
    "\n",
    "# 定义graph\n",
    "y = tf.add(x_data, A)\n",
    "loss = tf.nn.sigmoid_cross_entropy_with_logits(logits=y, labels=y_target)\n",
    "\n",
    "# 定义训练步骤\n",
    "optimizer = tf.train.GradientDescentOptimizer(0.02) # 采用梯度下降方法来进行求最优解，学习率为0.02\n",
    "train_step = optimizer.minimize(loss)"
   ]
  },
  {
   "cell_type": "code",
   "execution_count": 107,
   "metadata": {},
   "outputs": [
    {
     "name": "stdout",
     "output_type": "stream",
     "text": [
      "Step 0, A = -1.1414\n",
      "Loss = 0.345283\n",
      "Step 25, A = -1.1272\n",
      "Loss = 0.059127\n",
      "Step 50, A = -1.1326\n",
      "Loss = 0.199676\n",
      "Step 75, A = -1.1029\n",
      "Loss = 0.090576\n",
      "Step 100, A = -1.1119\n",
      "Loss = 0.369293\n",
      "Step 125, A = -1.0952\n",
      "Loss = 0.058722\n",
      "Step 150, A = -1.1109\n",
      "Loss = 0.052019\n",
      "Step 175, A = -1.1044\n",
      "Loss = 0.062949\n",
      "Step 200, A = -1.1141\n",
      "Loss = 0.063543\n",
      "Step 225, A = -1.0969\n",
      "Loss = 0.110546\n",
      "Step 250, A = -1.0915\n",
      "Loss = 0.060251\n",
      "Step 275, A = -1.0926\n",
      "Loss = 0.049765\n",
      "Step 300, A = -1.0932\n",
      "Loss = 0.089739\n",
      "Step 325, A = -1.0623\n",
      "Loss = 0.050573\n",
      "Step 350, A = -1.0589\n",
      "Loss = 0.096452\n",
      "Step 375, A = -1.0591\n",
      "Loss = 0.188010\n",
      "Step 400, A = -1.0632\n",
      "Loss = 0.338492\n",
      "Step 425, A = -1.0713\n",
      "Loss = 0.107217\n",
      "Step 450, A = -1.0415\n",
      "Loss = 0.332000\n",
      "Step 475, A = -1.0581\n",
      "Loss = 0.108313\n",
      "Step 500, A = -1.0338\n",
      "Loss = 0.329847\n",
      "Step 525, A = -1.0546\n",
      "Loss = 0.035951\n",
      "Step 550, A = -1.0700\n",
      "Loss = 0.707453\n",
      "Step 575, A = -1.0568\n",
      "Loss = 0.235877\n",
      "Step 600, A = -1.0574\n",
      "Loss = 0.050283\n",
      "Step 625, A = -1.0524\n",
      "Loss = 0.388064\n",
      "Step 650, A = -1.0360\n",
      "Loss = 0.690351\n",
      "Step 675, A = -1.0511\n",
      "Loss = 0.341991\n",
      "Step 700, A = -1.0577\n",
      "Loss = 0.058305\n",
      "Step 725, A = -1.0321\n",
      "Loss = 0.170685\n",
      "Step 750, A = -1.0283\n",
      "Loss = 0.131044\n",
      "Step 775, A = -1.0391\n",
      "Loss = 0.324080\n",
      "Step 800, A = -1.0474\n",
      "Loss = 0.108530\n",
      "Step 825, A = -1.0778\n",
      "Loss = 0.261202\n",
      "Step 850, A = -1.0844\n",
      "Loss = 0.266839\n",
      "Step 875, A = -1.0565\n",
      "Loss = 0.235931\n",
      "Step 900, A = -1.0569\n",
      "Loss = 0.158359\n",
      "Step 925, A = -1.0435\n",
      "Loss = 0.128989\n",
      "Step 950, A = -1.0618\n",
      "Loss = 0.114277\n",
      "Step 975, A = -1.0282\n",
      "Loss = 0.169815\n"
     ]
    }
   ],
   "source": [
    "# 开始训练\n",
    "init = tf.global_variables_initializer() # 初始化定义的变量\n",
    "sess.run(init)\n",
    "\n",
    "for i in range(1000):\n",
    "    rand_idx = np.random.choice(100)\n",
    "    sess.run(train_step, feed_dict={x_data:[x_vals[rand_idx]], y_target:[y_vals[rand_idx]]})\n",
    "    if i % 25 == 0:\n",
    "        print 'Step %d, A = %.4f' % (i, sess.run(A))\n",
    "        print 'Loss = %f' % sess.run(loss, feed_dict={x_data:[x_vals[rand_idx]], y_target:[y_vals[rand_idx]]})"
   ]
  },
  {
   "cell_type": "code",
   "execution_count": 108,
   "metadata": {},
   "outputs": [
    {
     "name": "stdout",
     "output_type": "stream",
     "text": [
      "model accuracy = 0.9900\n"
     ]
    }
   ],
   "source": [
    "# 评价\n",
    "predictions = []\n",
    "for idx in range(len(x_vals)):\n",
    "    x_val = [x_vals[idx]]\n",
    "    prediction = sess.run(tf.round(tf.sigmoid(y)), feed_dict={x_data:x_val}) # tf.round(value) 将value转变为最近的整数 \n",
    "    predictions.append(prediction[0])\n",
    "    \n",
    "accuracy = sum(x==y for x,y in zip(predictions, y_vals))/100.0\n",
    "print 'model accuracy = %.4f' % accuracy"
   ]
  },
  {
   "cell_type": "code",
   "execution_count": null,
   "metadata": {
    "collapsed": true
   },
   "outputs": [],
   "source": []
  }
 ],
 "metadata": {
  "kernelspec": {
   "display_name": "Python 2",
   "language": "python",
   "name": "python2"
  },
  "language_info": {
   "codemirror_mode": {
    "name": "ipython",
    "version": 2
   },
   "file_extension": ".py",
   "mimetype": "text/x-python",
   "name": "python",
   "nbconvert_exporter": "python",
   "pygments_lexer": "ipython2",
   "version": "2.7.13"
  }
 },
 "nbformat": 4,
 "nbformat_minor": 2
}
