{
 "cells": [
  {
   "cell_type": "markdown",
   "metadata": {},
   "source": [
    "# 多层操作\n",
    "\n",
    "总算是能来点高端点的东西了，这小节将会使用到卷积神经网络。首先我们还是先加载相关的库，开启一个会话。"
   ]
  },
  {
   "cell_type": "code",
   "execution_count": 4,
   "metadata": {
    "collapsed": true
   },
   "outputs": [],
   "source": [
    "import matplotlib.pyplot as plt\n",
    "import numpy as np\n",
    "import tensorflow as tf\n",
    "import os\n",
    "from tensorflow.python.framework import ops\n",
    "ops.reset_default_graph()\n",
    "\n",
    "sess = tf.Session()"
   ]
  },
  {
   "cell_type": "markdown",
   "metadata": {},
   "source": [
    "## 卷积层操作\n",
    "\n",
    "这里我们构建一个卷积网络+普通网络的一个结构。\n",
    "\n",
    "其中涉及到的权重都设置为固定值，不用学习。\n",
    "\n",
    "来练习构建整个网络，并feed数据输出结果。\n",
    "\n",
    "最后将整个graph保存到tensorboard中。"
   ]
  },
  {
   "cell_type": "code",
   "execution_count": 18,
   "metadata": {},
   "outputs": [
    {
     "name": "stdout",
     "output_type": "stream",
     "text": [
      "[[[[0.72392015 0.72744314 0.4045931 ]\n",
      "   [0.44091657 0.14427324 0.66309457]\n",
      "   [0.70344593 0.34776271 0.71087831]\n",
      "   [0.06760684 0.24347543 0.30133326]]\n",
      "\n",
      "  [[0.43634679 0.03120201 0.52097436]\n",
      "   [0.59101304 0.53549256 0.48331427]\n",
      "   [0.78864992 0.26940446 0.32615327]\n",
      "   [0.11105093 0.9352927  0.31519688]]\n",
      "\n",
      "  [[0.3707504  0.14351385 0.36660984]\n",
      "   [0.01813955 0.36129332 0.28292336]\n",
      "   [0.41976884 0.94289141 0.30738687]\n",
      "   [0.90596038 0.64111324 0.98093417]]\n",
      "\n",
      "  [[0.04103797 0.31873766 0.1801793 ]\n",
      "   [0.63718267 0.52682978 0.28655754]\n",
      "   [0.53700243 0.54112715 0.13726853]\n",
      "   [0.8402482  0.93482228 0.02006843]]]]\n",
      "[[[0.72392015 0.72744314 0.4045931 ]\n",
      "  [0.44091657 0.14427324 0.66309457]\n",
      "  [0.70344593 0.34776271 0.71087831]\n",
      "  [0.06760684 0.24347543 0.30133326]]\n",
      "\n",
      " [[0.43634679 0.03120201 0.52097436]\n",
      "  [0.59101304 0.53549256 0.48331427]\n",
      "  [0.78864992 0.26940446 0.32615327]\n",
      "  [0.11105093 0.9352927  0.31519688]]\n",
      "\n",
      " [[0.3707504  0.14351385 0.36660984]\n",
      "  [0.01813955 0.36129332 0.28292336]\n",
      "  [0.41976884 0.94289141 0.30738687]\n",
      "  [0.90596038 0.64111324 0.98093417]]\n",
      "\n",
      " [[0.04103797 0.31873766 0.1801793 ]\n",
      "  [0.63718267 0.52682978 0.28655754]\n",
      "  [0.53700243 0.54112715 0.13726853]\n",
      "  [0.8402482  0.93482228 0.02006843]]]\n"
     ]
    },
    {
     "data": {
      "image/png": "[encoded data removed]",
      "text/plain": [
       "<matplotlib.figure.Figure at 0x7fd39c127610>"
      ]
     },
     "metadata": {},
     "output_type": "display_data"
    }
   ],
   "source": [
    "# 创建一个像素为4*4 的随机图片\n",
    "\n",
    "x_shape = [1,4,4,3] # [图片数量，像素，像素，通道（一般1表示黑白图片，3表示彩色图片，有RGB3通道）]\n",
    "x_val = np.random.uniform(size=x_shape)\n",
    "print x_val\n",
    "print x_val[0]\n",
    "\n",
    "# 我们显示出来看看\n",
    "plt.imshow(x_val[0])\n",
    "plt.axis('off')\n",
    "plt.show()"
   ]
  },
  {
   "cell_type": "code",
   "execution_count": 33,
   "metadata": {},
   "outputs": [],
   "source": [
    "# 创建输入到网络的placeholder\n",
    "# 创建卷积层来对输入图片进行卷积操作\n",
    "# 创建一个简单的层来进行sigmoid（wx+b）操作\n",
    "\n",
    "x_input = tf.placeholder(tf.float32,shape=[None,4,4,3]) \n",
    "# [样本数量，像素(行数)，像素（列数），通道] None表示事先不知道，先占个位置。feed的时候就自然知道了\n",
    "my_filter = tf.constant(0.25,shape=[2,2,3,1]) \n",
    "# [维度1（行数），维度2（列数），通道数（与输入图片一致），输出的层数]\n",
    "my_strides = [1,2,2,1] \n",
    "# 定义filter如何滑动，[1，可自定义（1表示每次滑动一个像素，2表示每次滑动两个像素），自定义，1]\n",
    "\n",
    "conv_output = tf.nn.conv2d(x_input, my_filter, my_strides, padding='SAME', name='moving_avg_window') \n",
    "# padding表示是否需要给输入周围补0，可选\"SAME\", \"VALID\"，“SAME”将会补0.\n",
    "# 具体见https://www.tensorflow.org/versions/r1.7/api_docs/python/tf/nn/conv2d\n",
    "\n",
    "def custom_layer(input_matrix):\n",
    "    input_matrix_sqeezed = tf.squeeze(input_matrix)\n",
    "    A = tf.constant([[1.,2.],[-1.,3.]])\n",
    "    b = tf.constant(1., shape=[2,2])\n",
    "    temp1 = tf.matmul(A, input_matrix_sqeezed)\n",
    "    temp = tf.add(temp1,b)\n",
    "    return tf.sigmoid(temp)\n",
    "\n",
    "with tf.name_scope('Custom_Layer') as scope:\n",
    "    custom_layer1 = custom_layer(conv_output)"
   ]
  },
  {
   "cell_type": "code",
   "execution_count": 34,
   "metadata": {},
   "outputs": [
    {
     "name": "stdout",
     "output_type": "stream",
     "text": [
      "[[[[1.425646 ]\n",
      "   [1.2800627]]\n",
      "\n",
      "  [[0.8834388]\n",
      "   [1.802148 ]]]]\n"
     ]
    }
   ],
   "source": [
    "print sess.run(conv_output,feed_dict={x_input: x_val})"
   ]
  },
  {
   "cell_type": "code",
   "execution_count": 35,
   "metadata": {},
   "outputs": [
    {
     "name": "stdout",
     "output_type": "stream",
     "text": [
      "[[0.9851167  0.99722517]\n",
      " [0.9024432  0.994097  ]]\n"
     ]
    }
   ],
   "source": [
    "print sess.run(custom_layer1, feed_dict={x_input: x_val})"
   ]
  },
  {
   "cell_type": "code",
   "execution_count": 36,
   "metadata": {
    "collapsed": true
   },
   "outputs": [],
   "source": [
    "merged = tf.summary.merge_all(key='summaries')\n",
    "if not os.path.exists('tensorboard_logs/'):\n",
    "    os.makedirs('tensorboard_loags/')\n",
    "my_writer = tf.summary.FileWriter('tensorboard_logs/',sess.graph)"
   ]
  },
  {
   "cell_type": "code",
   "execution_count": null,
   "metadata": {
    "collapsed": true
   },
   "outputs": [],
   "source": []
  }
 ],
 "metadata": {
  "kernelspec": {
   "display_name": "Python 2",
   "language": "python",
   "name": "python2"
  },
  "language_info": {
   "codemirror_mode": {
    "name": "ipython",
    "version": 2
   },
   "file_extension": ".py",
   "mimetype": "text/x-python",
   "name": "python",
   "nbconvert_exporter": "python",
   "pygments_lexer": "ipython2",
   "version": "2.7.13"
  }
 },
 "nbformat": 4,
 "nbformat_minor": 2
}
