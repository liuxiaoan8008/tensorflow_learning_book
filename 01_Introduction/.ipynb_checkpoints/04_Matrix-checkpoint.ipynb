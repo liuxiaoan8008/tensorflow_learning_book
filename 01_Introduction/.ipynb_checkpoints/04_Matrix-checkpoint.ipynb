{
 "cells": [
  {
   "cell_type": "markdown",
   "metadata": {},
   "source": [
    "# 矩阵及其操作\n",
    "这里讲述各种创建矩阵的方法以及其在tensorflow中的使用。"
   ]
  },
  {
   "cell_type": "code",
   "execution_count": 1,
   "metadata": {},
   "outputs": [
    {
     "name": "stderr",
     "output_type": "stream",
     "text": [
      "/home/lxa/anaconda2/lib/python2.7/site-packages/h5py/__init__.py:34: FutureWarning: Conversion of the second argument of issubdtype from `float` to `np.floating` is deprecated. In future, it will be treated as `np.float64 == np.dtype(float).type`.\n",
      "  from ._conv import register_converters as _register_converters\n"
     ]
    }
   ],
   "source": [
    "import numpy as np\n",
    "import tensorflow as tf\n",
    "from tensorflow.python.framework import ops\n",
    "ops.reset_default_graph()"
   ]
  },
  {
   "cell_type": "code",
   "execution_count": 2,
   "metadata": {
    "collapsed": true
   },
   "outputs": [],
   "source": [
    "sess = tf.Session()"
   ]
  },
  {
   "cell_type": "markdown",
   "metadata": {},
   "source": [
    "## 创建矩阵"
   ]
  },
  {
   "cell_type": "code",
   "execution_count": 3,
   "metadata": {},
   "outputs": [
    {
     "data": {
      "text/plain": [
       "array([[1., 0., 0.],\n",
       "       [0., 1., 0.],\n",
       "       [0., 0., 1.]], dtype=float32)"
      ]
     },
     "execution_count": 3,
     "metadata": {},
     "output_type": "execute_result"
    }
   ],
   "source": [
    "# 定义单位阵（Identity Matrix）\n",
    "\n",
    "identity_matrix = tf.diag([1.0,1.0,1.0])\n",
    "sess.run(identity_matrix)"
   ]
  },
  {
   "cell_type": "code",
   "execution_count": 8,
   "metadata": {},
   "outputs": [
    {
     "name": "stdout",
     "output_type": "stream",
     "text": [
      "[[ 0.49994045 -1.4941657  -0.41872942]\n",
      " [ 0.8820672  -0.41305533  0.69380933]]\n",
      "[[0.9806644  0.02443719]\n",
      " [0.8431717  0.7008257 ]\n",
      " [0.5200267  0.9575081 ]]\n"
     ]
    }
   ],
   "source": [
    "# 定义2*3的随机矩阵\n",
    "\n",
    "random_matrix = tf.truncated_normal([2,3]) # [-1,1]\n",
    "print sess.run(random_matrix)\n",
    "\n",
    "C = tf.random_uniform([3,2]) # [0,1]\n",
    "print(sess.run(C))"
   ]
  },
  {
   "cell_type": "code",
   "execution_count": 11,
   "metadata": {},
   "outputs": [
    {
     "name": "stdout",
     "output_type": "stream",
     "text": [
      "[[5. 5.]\n",
      " [5. 5.]\n",
      " [5. 5.]]\n"
     ]
    }
   ],
   "source": [
    "# 定义一个2*3的每个值都是5.0的矩阵\n",
    "\n",
    "B = tf.fill([3,2], 5.0)\n",
    "print(sess.run(B))"
   ]
  },
  {
   "cell_type": "code",
   "execution_count": 12,
   "metadata": {},
   "outputs": [
    {
     "data": {
      "text/plain": [
       "array([[ 1.,  2.,  3.],\n",
       "       [-3., -7., -1.],\n",
       "       [ 0.,  5., -2.]])"
      ]
     },
     "execution_count": 12,
     "metadata": {},
     "output_type": "execute_result"
    }
   ],
   "source": [
    "# 将numpy矩阵转换为tensor\n",
    "\n",
    "matrix_np = np.array([[1., 2., 3.], [-3., -7., -1.], [0., 5., -2.]])\n",
    "matrix_tf = tf.convert_to_tensor(matrix_np)\n",
    "sess.run(matrix_tf)"
   ]
  },
  {
   "cell_type": "markdown",
   "metadata": {},
   "source": [
    "## 矩阵操作"
   ]
  },
  {
   "cell_type": "code",
   "execution_count": 13,
   "metadata": {},
   "outputs": [
    {
     "name": "stdout",
     "output_type": "stream",
     "text": [
      "[[5.8030887 5.2771344]\n",
      " [5.9749775 5.7770815]\n",
      " [5.7584696 5.217642 ]]\n",
      "[[-4.4853106 -4.7583013]\n",
      " [-4.86674   -4.99822  ]\n",
      " [-4.199946  -4.371274 ]]\n"
     ]
    }
   ],
   "source": [
    "# 矩阵加法、减法\n",
    "\n",
    "print sess.run(C+B)\n",
    "print sess.run(C-B)"
   ]
  },
  {
   "cell_type": "code",
   "execution_count": null,
   "metadata": {
    "collapsed": true
   },
   "outputs": [],
   "source": [
    "# "
   ]
  }
 ],
 "metadata": {
  "kernelspec": {
   "display_name": "Python 2",
   "language": "python",
   "name": "python2"
  },
  "language_info": {
   "codemirror_mode": {
    "name": "ipython",
    "version": 2
   },
   "file_extension": ".py",
   "mimetype": "text/x-python",
   "name": "python",
   "nbconvert_exporter": "python",
   "pygments_lexer": "ipython2",
   "version": "2.7.13"
  }
 },
 "nbformat": 4,
 "nbformat_minor": 2
}
